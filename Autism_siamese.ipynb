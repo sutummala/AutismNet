{
  "nbformat": 4,
  "nbformat_minor": 0,
  "metadata": {
    "accelerator": "GPU",
    "colab": {
      "name": "Autism_siamese.ipynb",
      "provenance": [],
      "collapsed_sections": [],
      "machine_shape": "hm",
      "include_colab_link": true
    },
    "kernelspec": {
      "display_name": "Python 3",
      "name": "python3"
    }
  },
  "cells": [
    {
      "cell_type": "markdown",
      "metadata": {
        "id": "view-in-github",
        "colab_type": "text"
      },
      "source": [
        "<a href=\"https://colab.research.google.com/github/sutummala/AutismNet/blob/main/Autism_siamese.ipynb\" target=\"_parent\"><img src=\"https://colab.research.google.com/assets/colab-badge.svg\" alt=\"Open In Colab\"/></a>"
      ]
    },
    {
      "cell_type": "code",
      "metadata": {
        "colab": {
          "base_uri": "https://localhost:8080/"
        },
        "id": "iq5akkk4CpnB",
        "outputId": "6dabef6f-d5e1-4070-a841-899db4addf87"
      },
      "source": [
        "from google.colab import drive\n",
        "drive.mount('/content/drive')"
      ],
      "execution_count": 28,
      "outputs": [
        {
          "output_type": "stream",
          "name": "stdout",
          "text": [
            "Drive already mounted at /content/drive; to attempt to forcibly remount, call drive.mount(\"/content/drive\", force_remount=True).\n"
          ]
        }
      ]
    },
    {
      "cell_type": "code",
      "metadata": {
        "id": "D7g0odBW6RA-"
      },
      "source": [
        "import os\n",
        "import tensorflow as tf\n",
        "from tensorflow.keras import backend as K\n",
        "#import tensorflow_addons as tfa\n",
        "from sklearn.model_selection import RepeatedStratifiedKFold, cross_val_score\n",
        "import sklearn\n",
        "import nibabel as nib\n",
        "import numpy as np\n",
        "import random\n",
        "import matplotlib.pyplot as plt"
      ],
      "execution_count": 29,
      "outputs": []
    },
    {
      "cell_type": "code",
      "metadata": {
        "id": "bEuSRuMW6j15"
      },
      "source": [
        "# normalizing the input to have values between zero and one to make them suitable for further analysis\n",
        "def normalize(input):\n",
        "  norm_input = []\n",
        "  print(f'shape of input is {np.shape(input[0])}')\n",
        "  for i in range(np.shape(input)[0]):\n",
        "    norm_in = (input[i]-np.min(input[i]))/(np.max(input[i])-np.min(input[i]))\n",
        "    norm_input.append(norm_in)\n",
        "  return norm_input"
      ],
      "execution_count": 30,
      "outputs": []
    },
    {
      "cell_type": "code",
      "metadata": {
        "colab": {
          "base_uri": "https://localhost:8080/"
        },
        "id": "a6gWYWB3g--B",
        "outputId": "7025c30d-8dfb-4d06-8595-c8f480c4ec32"
      },
      "source": [
        "left_input = np.load('/content/drive/My Drive/Autism_CNN/left_input.npy')\n",
        "left_input = np.squeeze(normalize(left_input))\n",
        "\n",
        "right_input = np.load('/content/drive/My Drive/Autism_CNN/right_input.npy')\n",
        "right_input = np.squeeze(normalize(right_input))\n",
        "\n",
        "targets = np.load('/content/drive/My Drive/Autism_CNN/autism_labels.npy')\n",
        "\n",
        "targets = 1-targets # 1 for different pair and 0 for same pair \n",
        "\n",
        "print(f'total size of the data is {len(targets)}')"
      ],
      "execution_count": 31,
      "outputs": [
        {
          "output_type": "stream",
          "name": "stdout",
          "text": [
            "shape of input is (30, 45, 30)\n",
            "shape of input is (30, 45, 30)\n",
            "total size of the data is 4280\n"
          ]
        }
      ]
    },
    {
      "cell_type": "code",
      "metadata": {
        "colab": {
          "base_uri": "https://localhost:8080/"
        },
        "id": "oZKLD3_hNIM7",
        "outputId": "e1d42508-81da-4e03-999e-e90a61e9218a"
      },
      "source": [
        "folds = RepeatedStratifiedKFold(n_splits = 5, n_repeats = 1)\n",
        "\n",
        "for train_index, test_index in folds.split(left_input, targets):\n",
        "    left_input_cv, left_input_test, targets_cv, targets_test = left_input[train_index], left_input[test_index], targets[train_index], targets[test_index]\n",
        "    right_input_cv, right_input_test = right_input[train_index], right_input[test_index]\n",
        "\n",
        "#cv_index = int(0.9 * len(targets)) \n",
        "\n",
        "#left_input_cv = left_input[:cv_index]\n",
        "#right_input_cv = right_input[:cv_index]\n",
        "#targets_cv = targets[:cv_index]\n",
        "\n",
        "print(f'shape of left/right input for CV is {left_input_cv.shape}')\n",
        "print(f'input size for cross-validation is {len(targets_cv)}')\n",
        "print(f'no.of positive pairs in CV are {np.shape(np.nonzero(targets_cv))[1]}')\n",
        "\n",
        "#left_input_test = left_input[cv_index:]\n",
        "#right_input_test = right_input[cv_index:]\n",
        "#targets_test = targets[cv_index:]\n",
        "\n",
        "print(f'shape of left/right input for testing is {left_input_test.shape}')\n",
        "print(f'input size for testing is {len(targets_test)}')\n",
        "print(f'no.of positive pairs in test are {np.shape(np.nonzero(targets_test))[1]}')"
      ],
      "execution_count": 32,
      "outputs": [
        {
          "output_type": "stream",
          "name": "stdout",
          "text": [
            "shape of left/right input for CV is (3424, 30, 45, 30)\n",
            "input size for cross-validation is 3424\n",
            "no.of positive pairs in CV are 1694\n",
            "shape of left/right input for testing is (856, 30, 45, 30)\n",
            "input size for testing is 856\n",
            "no.of positive pairs in test are 423\n"
          ]
        }
      ]
    },
    {
      "cell_type": "code",
      "metadata": {
        "id": "h_Z6p5sLNprz"
      },
      "source": [
        "def specificity(y_true, y_pred):\n",
        "    \n",
        "    y_pred = K.cast(y_pred > 0.5, y_true.dtype)\n",
        "    tn, fp, fn, tp = (0, 0, 0, 0)\n",
        "    for i in range(len(y_true)):\n",
        "      if y_true[i] == 1 and y_pred[i] == 1:\n",
        "        tp += 1\n",
        "      elif y_true[i] == 1 and y_pred[i] == 0:\n",
        "        fn += 1\n",
        "      elif y_true[i] == 0 and y_pred[i] == 1:\n",
        "        fp += 1\n",
        "      elif y_true[i] == 0 and y_pred[i] == 0:\n",
        "        tn += 1\n",
        "    return tn/(tn+fp)"
      ],
      "execution_count": 33,
      "outputs": []
    },
    {
      "cell_type": "code",
      "metadata": {
        "id": "IFHiMSJcQC9h"
      },
      "source": [
        "def contrastive_loss(y_true, y_pred):\n",
        "    margin = 1\n",
        "    square_pred = K.square(y_pred)\n",
        "    margin_square = K.square(K.maximum(margin - y_pred, 0))\n",
        "    return K.mean((1-y_true) * square_pred + y_true * margin_square)"
      ],
      "execution_count": 34,
      "outputs": []
    },
    {
      "cell_type": "code",
      "metadata": {
        "id": "xBFMSWEyNJ6g"
      },
      "source": [
        "## newly added methods begin\n",
        "def recall_m(y_true, y_pred):\n",
        "  y_pred = K.cast(y_pred > 0.5, y_true.dtype)\n",
        "  true_positives = (K.round(K.clip(y_true * y_pred, 0, 1)))\n",
        "  possible_positives = (K.round(K.clip(y_true, 0, 1)))\n",
        "  recall = K.mean(K.equal(true_positives, possible_positives))\n",
        "  return recall\n",
        "\n",
        "def precision_m(y_true, y_pred):\n",
        "  y_pred = K.cast(y_pred > 0.5, y_true.dtype)\n",
        "  true_positives = (K.round(K.clip(y_true * y_pred, 0, 1)))\n",
        "  predicted_positives = (K.round(K.clip(y_pred, 0, 1)))\n",
        "  precision = K.mean(K.equal(true_positives, predicted_positives))\n",
        "  return precision\n",
        "\n",
        "def f1_m(y_true, y_pred):\n",
        "  precision = precision_m(y_true, y_pred)\n",
        "  recall = recall_m(y_true, y_pred)\n",
        "  return 2*((precision*recall)/(precision+recall+K.epsilon()))\n",
        "##newly added end\n",
        "\n",
        "def compute_accuracy(y_true, y_pred):\n",
        "    '''Compute classification accuracy with a fixed threshold on distances.\n",
        "    '''\n",
        "    pred = y_pred.ravel() < 0.5\n",
        "    return np.mean(pred == y_true)\n",
        "\n",
        "def accuracy(y_true, y_pred):\n",
        "    '''Compute classification accuracy with a fixed threshold on distances.\n",
        "    '''\n",
        "    return K.mean(K.equal(y_true, K.cast(y_pred > 0.5, y_true.dtype)))"
      ],
      "execution_count": 35,
      "outputs": []
    },
    {
      "cell_type": "code",
      "metadata": {
        "id": "B605Y_SfGXpL"
      },
      "source": [
        "def euclidean_distance(vectors):\n",
        "\t# unpack the vectors into separate lists\n",
        "\t(featsA, featsB) = vectors\n",
        "\t# compute the sum of squared distances between the vectors\n",
        "\tsumSquared = K.sum(K.square(featsA - featsB), axis=1,\n",
        "\t\tkeepdims=True)\n",
        "\t# return the euclidean distance between the vectors\n",
        "\treturn K.sqrt(K.maximum(sumSquared, K.epsilon()))"
      ],
      "execution_count": 36,
      "outputs": []
    },
    {
      "cell_type": "code",
      "metadata": {
        "id": "PTwj0FaeNStL"
      },
      "source": [
        "def eucl_dist_output_shape(shapes):\n",
        "    shape1, shape2 = shapes\n",
        "    return (shape1[0], 1)"
      ],
      "execution_count": 37,
      "outputs": []
    },
    {
      "cell_type": "code",
      "metadata": {
        "id": "hbOUy2GR9TWn"
      },
      "source": [
        "def specificity1(y_true, y_pred):\n",
        "    true_negatives = K.sum(K.round(K.clip((1-y_true) * (1-y_pred), 0, 1)))\n",
        "    possible_negatives = K.sum(K.round(K.clip(1-y_true, 0, 1)))\n",
        "    return true_negatives / (possible_negatives + K.epsilon())"
      ],
      "execution_count": 38,
      "outputs": []
    },
    {
      "cell_type": "code",
      "metadata": {
        "id": "5QYTMFZ8hbK7"
      },
      "source": [
        "def SiameseNetwork(input_shape):\n",
        "    \n",
        "    moving_input = tf.keras.Input(input_shape)\n",
        "    ref_input = tf.keras.Input(input_shape)\n",
        "    \n",
        "    #model = tf.keras.Sequential()\n",
        "    input = tf.keras.Input(input_shape)\n",
        "\n",
        "   # 1st 3D conv blocks, which involves, convolution, BN, activation and pooling \n",
        "    x_1 = tf.keras.layers.Conv3D(32, (3,3,3), strides = (1,1,1), padding = 'same', kernel_regularizer = 'L2', name = 'conv3d_1')(input)\n",
        "    x_1_bn = tf.keras.layers.BatchNormalization(axis = -1)(x_1)\n",
        "    x_1_bn_ac = tf.keras.layers.Activation('relu')(x_1_bn)\n",
        "\n",
        "    x_2 = tf.keras.layers.Conv3D(32, (3,3,3), strides = (1,1,1), padding = 'same', kernel_regularizer = 'L2', name = 'conv3d_2')(x_1_bn_ac)\n",
        "    x_2 = tf.keras.layers.BatchNormalization(axis = -1)(x_2)\n",
        "    x_2 = tf.keras.layers.Activation('relu')(x_2)\n",
        "    x_2 = tf.keras.layers.MaxPooling3D(strides = (2, 2, 2))(x_2)\n",
        "              \n",
        "    # 2nd 3D conv block, which involves, convolution, BN, activation and pooling \n",
        "    x_3 = tf.keras.layers.Conv3D(64, (3,3,3), strides = (1,1,1), padding = 'same', kernel_regularizer = 'L2', name = 'conv3d_3')(x_2)\n",
        "    x_3 = tf.keras.layers.BatchNormalization(axis = -1)(x_3)\n",
        "    x_3 = tf.keras.layers.Activation('relu')(x_3)\n",
        "\n",
        "    x_4 = tf.keras.layers.Conv3D(64, (3,3,3), strides = (1,1,1), padding = 'same', kernel_regularizer = 'L2', name = 'conv3d_4')(x_3)\n",
        "    x_4 = tf.keras.layers.BatchNormalization(axis = -1)(x_4)\n",
        "    x_4 = tf.keras.layers.Activation('relu')(x_4)\n",
        "    x_4 = tf.keras.layers.MaxPooling3D(strides = (2, 2, 2))(x_4)\n",
        "    \n",
        "    # 3rd 3D conv block, which involves, convolution, BN, activation and pooling \n",
        "    x_5 = tf.keras.layers.Conv3D(256, (3,3,3), strides = (1,1,1), padding = 'same', kernel_regularizer = 'L2', name = 'conv3d_5')(x_4)\n",
        "    x_5_bn = tf.keras.layers.BatchNormalization(axis = -1)(x_5)\n",
        "    x_5_bn_ac = tf.keras.layers.Activation('relu')(x_5_bn)\n",
        "    x_5_pooling = tf.keras.layers.MaxPooling3D(strides = (2, 2, 2))(x_5_bn_ac)       \n",
        "    \n",
        "    gap_layer = tf.keras.layers.GlobalAveragePooling3D()(x_5_pooling)\n",
        "    #model.add(tf.keras.layers.Dropout(0.3))\n",
        "    dense_layer = tf.keras.layers.Dense(256, activation = 'relu', kernel_regularizer = 'L2')(gap_layer)\n",
        "    \n",
        "    encoding_model = tf.keras.Model(inputs = input, outputs =  dense_layer, name = 'base_3dcnn')\n",
        "\n",
        "    encoded_moving  = encoding_model(moving_input)\n",
        "    encoded_ref = encoding_model(ref_input)\n",
        "\n",
        "    L1_layer = tf.keras.layers.Lambda(lambda tensors:K.abs(tensors[0] - tensors[1]), name = 'lambda_layer')\n",
        "    #L2_layer = tf.keras.layers.Lambda(lambda tensors:K.l2_normalize((tensors[0] - tensors[1]), axis = 1))\n",
        "\n",
        "    L1_distance = L1_layer([encoded_moving, encoded_ref]) # L1-norm\n",
        "    #L2_distance = L2_layer([encoded_moving, encoded_ref]) # L2-norm or Euclidean Norm\n",
        "    #L2_distance = tf.keras.layers.Lambda(euclidean_distance, output_shape=eucl_dist_output_shape)([encoded_moving, encoded_ref])\n",
        "\n",
        "    prediction = tf.keras.layers.Dense(1, activation='sigmoid')(L1_distance)\n",
        "    siamesenet = tf.keras.Model(inputs = [moving_input, ref_input], outputs = prediction, name = 'siamese_3dmodel')\n",
        "    \n",
        "    return siamesenet, encoding_model"
      ],
      "execution_count": 39,
      "outputs": []
    },
    {
      "cell_type": "code",
      "metadata": {
        "id": "eauk1cr6lW4T"
      },
      "source": [
        "img_shape = (30, 45, 30, 1)"
      ],
      "execution_count": 40,
      "outputs": []
    },
    {
      "cell_type": "code",
      "metadata": {
        "colab": {
          "base_uri": "https://localhost:8080/"
        },
        "id": "Bsnxgx30hxUN",
        "outputId": "1446b89c-0373-4c20-bcc4-577a101bb088"
      },
      "source": [
        "siamese_model, base_model = SiameseNetwork(img_shape)\n",
        "base_learning_rate = 0.00005\n",
        "base_model.summary()\n",
        "siamese_model.summary()"
      ],
      "execution_count": 41,
      "outputs": [
        {
          "output_type": "stream",
          "name": "stdout",
          "text": [
            "Model: \"base_3dcnn\"\n",
            "_________________________________________________________________\n",
            "Layer (type)                 Output Shape              Param #   \n",
            "=================================================================\n",
            "input_9 (InputLayer)         [(None, 30, 45, 30, 1)]   0         \n",
            "_________________________________________________________________\n",
            "conv3d_1 (Conv3D)            (None, 30, 45, 30, 32)    896       \n",
            "_________________________________________________________________\n",
            "batch_normalization_10 (Batc (None, 30, 45, 30, 32)    128       \n",
            "_________________________________________________________________\n",
            "activation_10 (Activation)   (None, 30, 45, 30, 32)    0         \n",
            "_________________________________________________________________\n",
            "conv3d_2 (Conv3D)            (None, 30, 45, 30, 32)    27680     \n",
            "_________________________________________________________________\n",
            "batch_normalization_11 (Batc (None, 30, 45, 30, 32)    128       \n",
            "_________________________________________________________________\n",
            "activation_11 (Activation)   (None, 30, 45, 30, 32)    0         \n",
            "_________________________________________________________________\n",
            "max_pooling3d_6 (MaxPooling3 (None, 15, 22, 15, 32)    0         \n",
            "_________________________________________________________________\n",
            "conv3d_3 (Conv3D)            (None, 15, 22, 15, 64)    55360     \n",
            "_________________________________________________________________\n",
            "batch_normalization_12 (Batc (None, 15, 22, 15, 64)    256       \n",
            "_________________________________________________________________\n",
            "activation_12 (Activation)   (None, 15, 22, 15, 64)    0         \n",
            "_________________________________________________________________\n",
            "conv3d_4 (Conv3D)            (None, 15, 22, 15, 64)    110656    \n",
            "_________________________________________________________________\n",
            "batch_normalization_13 (Batc (None, 15, 22, 15, 64)    256       \n",
            "_________________________________________________________________\n",
            "activation_13 (Activation)   (None, 15, 22, 15, 64)    0         \n",
            "_________________________________________________________________\n",
            "max_pooling3d_7 (MaxPooling3 (None, 7, 11, 7, 64)      0         \n",
            "_________________________________________________________________\n",
            "conv3d_5 (Conv3D)            (None, 7, 11, 7, 256)     442624    \n",
            "_________________________________________________________________\n",
            "batch_normalization_14 (Batc (None, 7, 11, 7, 256)     1024      \n",
            "_________________________________________________________________\n",
            "activation_14 (Activation)   (None, 7, 11, 7, 256)     0         \n",
            "_________________________________________________________________\n",
            "max_pooling3d_8 (MaxPooling3 (None, 3, 5, 3, 256)      0         \n",
            "_________________________________________________________________\n",
            "global_average_pooling3d_2 ( (None, 256)               0         \n",
            "_________________________________________________________________\n",
            "dense_4 (Dense)              (None, 256)               65792     \n",
            "=================================================================\n",
            "Total params: 704,800\n",
            "Trainable params: 703,904\n",
            "Non-trainable params: 896\n",
            "_________________________________________________________________\n",
            "Model: \"siamese_3dmodel\"\n",
            "__________________________________________________________________________________________________\n",
            "Layer (type)                    Output Shape         Param #     Connected to                     \n",
            "==================================================================================================\n",
            "input_7 (InputLayer)            [(None, 30, 45, 30,  0                                            \n",
            "__________________________________________________________________________________________________\n",
            "input_8 (InputLayer)            [(None, 30, 45, 30,  0                                            \n",
            "__________________________________________________________________________________________________\n",
            "base_3dcnn (Functional)         (None, 256)          704800      input_7[0][0]                    \n",
            "                                                                 input_8[0][0]                    \n",
            "__________________________________________________________________________________________________\n",
            "lambda_layer (Lambda)           (None, 256)          0           base_3dcnn[0][0]                 \n",
            "                                                                 base_3dcnn[1][0]                 \n",
            "__________________________________________________________________________________________________\n",
            "dense_5 (Dense)                 (None, 1)            257         lambda_layer[0][0]               \n",
            "==================================================================================================\n",
            "Total params: 705,057\n",
            "Trainable params: 704,161\n",
            "Non-trainable params: 896\n",
            "__________________________________________________________________________________________________\n"
          ]
        }
      ]
    },
    {
      "cell_type": "code",
      "metadata": {
        "colab": {
          "base_uri": "https://localhost:8080/"
        },
        "id": "5JoIccFvh8JJ",
        "outputId": "6bf7079b-0f5b-4af2-8d18-73736e9e805b"
      },
      "source": [
        "siamese_model.compile(optimizer = tf.keras.optimizers.Adam(learning_rate = base_learning_rate), loss = contrastive_loss, metrics = [accuracy, recall_m, specificity, precision_m, f1_m])\n",
        "    \n",
        "fine_tune_epochs = 20\n",
        "history_fine = siamese_model.fit([left_input_cv, right_input_cv], targets_cv, batch_size = 32,\n",
        "                              epochs = fine_tune_epochs,\n",
        "                              shuffle = True,\n",
        "                              validation_split = 0.2)"
      ],
      "execution_count": 42,
      "outputs": [
        {
          "output_type": "stream",
          "name": "stdout",
          "text": [
            "Epoch 1/20\n",
            "86/86 [==============================] - 28s 307ms/step - loss: 5.0220 - accuracy: 0.5067 - recall_m: 0.7695 - specificity: nan - precision_m: 0.7373 - f1_m: 0.7370 - val_loss: 4.7771 - val_accuracy: 0.4918 - val_recall_m: 0.9915 - val_specificity: nan - val_precision_m: 0.5003 - val_f1_m: 0.6613\n",
            "Epoch 2/20\n",
            "86/86 [==============================] - 26s 298ms/step - loss: 4.5475 - accuracy: 0.5870 - recall_m: 0.8017 - specificity: 0.5946 - precision_m: 0.7853 - f1_m: 0.7850 - val_loss: 4.3363 - val_accuracy: 0.4904 - val_recall_m: 0.9872 - val_specificity: nan - val_precision_m: 0.5032 - val_f1_m: 0.6625\n",
            "Epoch 3/20\n",
            "86/86 [==============================] - 26s 298ms/step - loss: 4.1173 - accuracy: 0.6465 - recall_m: 0.8210 - specificity: 0.6598 - precision_m: 0.8256 - f1_m: 0.8144 - val_loss: 3.9494 - val_accuracy: 0.4413 - val_recall_m: 0.9020 - val_specificity: 0.3072 - val_precision_m: 0.5393 - val_f1_m: 0.6679\n",
            "Epoch 4/20\n",
            "86/86 [==============================] - 26s 298ms/step - loss: 3.7264 - accuracy: 0.7274 - recall_m: 0.8584 - specificity: 0.7342 - precision_m: 0.8691 - f1_m: 0.8578 - val_loss: 3.6149 - val_accuracy: 0.4102 - val_recall_m: 0.8246 - val_specificity: 0.3399 - val_precision_m: 0.5856 - val_f1_m: 0.6722\n",
            "Epoch 5/20\n",
            "86/86 [==============================] - 26s 298ms/step - loss: 3.3677 - accuracy: 0.8143 - recall_m: 0.9003 - specificity: 0.8082 - precision_m: 0.9140 - f1_m: 0.9046 - val_loss: 3.2969 - val_accuracy: 0.5054 - val_recall_m: 0.8347 - val_specificity: 0.5313 - val_precision_m: 0.6707 - val_f1_m: 0.7328\n",
            "Epoch 6/20\n",
            "86/86 [==============================] - 26s 298ms/step - loss: 3.0325 - accuracy: 0.9032 - recall_m: 0.9496 - specificity: 0.8990 - precision_m: 0.9536 - f1_m: 0.9507 - val_loss: 2.9941 - val_accuracy: 0.6336 - val_recall_m: 0.8183 - val_specificity: 0.6481 - val_precision_m: 0.8153 - val_f1_m: 0.8075\n",
            "Epoch 7/20\n",
            "86/86 [==============================] - 26s 298ms/step - loss: 2.7316 - accuracy: 0.9473 - recall_m: 0.9679 - specificity: 0.9388 - precision_m: 0.9794 - f1_m: 0.9731 - val_loss: 2.6941 - val_accuracy: 0.7741 - val_recall_m: 0.9134 - val_specificity: 0.8143 - val_precision_m: 0.8608 - val_f1_m: 0.8825\n",
            "Epoch 8/20\n",
            "86/86 [==============================] - 26s 298ms/step - loss: 2.4662 - accuracy: 0.9771 - recall_m: 0.9866 - specificity: 0.9735 - precision_m: 0.9906 - f1_m: 0.9884 - val_loss: 2.3916 - val_accuracy: 0.9276 - val_recall_m: 0.9787 - val_specificity: 0.9590 - val_precision_m: 0.9489 - val_f1_m: 0.9625\n",
            "Epoch 9/20\n",
            "86/86 [==============================] - 26s 298ms/step - loss: 2.2329 - accuracy: 0.9935 - recall_m: 0.9964 - specificity: 0.9924 - precision_m: 0.9971 - f1_m: 0.9967 - val_loss: 2.1799 - val_accuracy: 0.9503 - val_recall_m: 0.9957 - val_specificity: 0.9909 - val_precision_m: 0.9545 - val_f1_m: 0.9735\n",
            "Epoch 10/20\n",
            "86/86 [==============================] - 26s 298ms/step - loss: 2.0358 - accuracy: 0.9964 - recall_m: 0.9982 - specificity: 0.9965 - precision_m: 0.9982 - f1_m: 0.9982 - val_loss: 1.9622 - val_accuracy: 0.9872 - val_recall_m: 0.9972 - val_specificity: 0.9943 - val_precision_m: 0.9901 - val_f1_m: 0.9935\n",
            "Epoch 11/20\n",
            "86/86 [==============================] - 26s 298ms/step - loss: 1.8493 - accuracy: 0.9996 - recall_m: 0.9996 - specificity: 0.9992 - precision_m: 1.0000 - f1_m: 0.9998 - val_loss: 1.7988 - val_accuracy: 0.9858 - val_recall_m: 0.9986 - val_specificity: 0.9970 - val_precision_m: 0.9872 - val_f1_m: 0.9927\n",
            "Epoch 12/20\n",
            "86/86 [==============================] - 26s 298ms/step - loss: 1.6833 - accuracy: 0.9996 - recall_m: 0.9996 - specificity: 0.9991 - precision_m: 1.0000 - f1_m: 0.9998 - val_loss: 1.6270 - val_accuracy: 0.9957 - val_recall_m: 0.9986 - val_specificity: 0.9968 - val_precision_m: 0.9972 - val_f1_m: 0.9979\n",
            "Epoch 13/20\n",
            "86/86 [==============================] - 26s 298ms/step - loss: 1.5364 - accuracy: 0.9982 - recall_m: 0.9982 - specificity: 0.9961 - precision_m: 1.0000 - f1_m: 0.9991 - val_loss: 1.4771 - val_accuracy: 0.9915 - val_recall_m: 1.0000 - val_specificity: 1.0000 - val_precision_m: 0.9915 - val_f1_m: 0.9957\n",
            "Epoch 14/20\n",
            "86/86 [==============================] - 26s 298ms/step - loss: 1.4037 - accuracy: 0.9945 - recall_m: 0.9964 - specificity: 0.9930 - precision_m: 0.9982 - f1_m: 0.9972 - val_loss: 1.3384 - val_accuracy: 0.9972 - val_recall_m: 1.0000 - val_specificity: 1.0000 - val_precision_m: 0.9972 - val_f1_m: 0.9986\n",
            "Epoch 15/20\n",
            "86/86 [==============================] - 26s 298ms/step - loss: 1.2743 - accuracy: 1.0000 - recall_m: 1.0000 - specificity: 1.0000 - precision_m: 1.0000 - f1_m: 1.0000 - val_loss: 1.2240 - val_accuracy: 0.9986 - val_recall_m: 1.0000 - val_specificity: 1.0000 - val_precision_m: 0.9986 - val_f1_m: 0.9993\n",
            "Epoch 16/20\n",
            "86/86 [==============================] - 26s 298ms/step - loss: 1.1606 - accuracy: 1.0000 - recall_m: 1.0000 - specificity: 1.0000 - precision_m: 1.0000 - f1_m: 1.0000 - val_loss: 1.1147 - val_accuracy: 1.0000 - val_recall_m: 1.0000 - val_specificity: 1.0000 - val_precision_m: 1.0000 - val_f1_m: 1.0000\n",
            "Epoch 17/20\n",
            "86/86 [==============================] - 26s 298ms/step - loss: 1.0579 - accuracy: 1.0000 - recall_m: 1.0000 - specificity: 1.0000 - precision_m: 1.0000 - f1_m: 1.0000 - val_loss: 1.0217 - val_accuracy: 0.9972 - val_recall_m: 1.0000 - val_specificity: 1.0000 - val_precision_m: 0.9972 - val_f1_m: 0.9986\n",
            "Epoch 18/20\n",
            "86/86 [==============================] - 26s 298ms/step - loss: 0.9640 - accuracy: 1.0000 - recall_m: 1.0000 - specificity: 1.0000 - precision_m: 1.0000 - f1_m: 1.0000 - val_loss: 0.9315 - val_accuracy: 1.0000 - val_recall_m: 1.0000 - val_specificity: 1.0000 - val_precision_m: 1.0000 - val_f1_m: 1.0000\n",
            "Epoch 19/20\n",
            "86/86 [==============================] - 26s 298ms/step - loss: 0.8877 - accuracy: 0.9953 - recall_m: 0.9971 - specificity: 0.9941 - precision_m: 0.9982 - f1_m: 0.9976 - val_loss: 0.8671 - val_accuracy: 0.9830 - val_recall_m: 1.0000 - val_specificity: 1.0000 - val_precision_m: 0.9830 - val_f1_m: 0.9908\n",
            "Epoch 20/20\n",
            "86/86 [==============================] - 26s 298ms/step - loss: 0.8075 - accuracy: 0.9993 - recall_m: 0.9996 - specificity: 0.9989 - precision_m: 0.9996 - f1_m: 0.9996 - val_loss: 0.7871 - val_accuracy: 0.9915 - val_recall_m: 1.0000 - val_specificity: 1.0000 - val_precision_m: 0.9915 - val_f1_m: 0.9957\n"
          ]
        }
      ]
    },
    {
      "cell_type": "code",
      "metadata": {
        "colab": {
          "base_uri": "https://localhost:8080/",
          "height": 1000
        },
        "id": "4O6ZEkGGek_i",
        "outputId": "f5cdeeaa-5bf8-41eb-caa2-2f682e026c0a"
      },
      "source": [
        "acc = history_fine.history['accuracy']\n",
        "val_acc = history_fine.history['val_accuracy']\n",
        "\n",
        "recall_m = history_fine.history['recall_m']\n",
        "val_recall_m = history_fine.history['val_recall_m']\n",
        "\n",
        "specificity = history_fine.history['specificity']\n",
        "val_specificity = history_fine.history['val_specificity']\n",
        "\n",
        "precision_m = history_fine.history['precision_m']\n",
        "val_precision_m = history_fine.history['val_precision_m']\n",
        "\n",
        "f1_m = history_fine.history['f1_m']\n",
        "val_f1_m = history_fine.history['val_f1_m']\n",
        "    \n",
        "loss = history_fine.history['loss']\n",
        "val_loss = history_fine.history['val_loss']\n",
        "    \n",
        "plt.figure(figsize=(8, 8))\n",
        "\n",
        "plt.figure()\n",
        "plt.plot(acc, label='Training Accuracy')\n",
        "plt.plot(val_acc, label='Validation Accuracy')\n",
        "plt.ylim([min(plt.ylim()),1.01])\n",
        "plt.legend(loc='lower right')\n",
        "plt.ylabel('Accuracy')\n",
        "plt.xlabel('epoch')\n",
        "\n",
        "plt.figure()\n",
        "plt.plot(recall_m, label='Training Recall')\n",
        "plt.plot(val_recall_m, label='Validation Recall')\n",
        "plt.ylim([min(plt.ylim()),1.01])\n",
        "plt.legend(loc='lower right')\n",
        "plt.ylabel('Recall(Sensitivity)')\n",
        "plt.xlabel('epoch')\n",
        "\n",
        "plt.figure()\n",
        "plt.plot(specificity, label='Training Specificity')\n",
        "plt.plot(val_specificity, label='Validation Specificity')\n",
        "plt.ylim([min(plt.ylim()),1.01])\n",
        "plt.legend(loc='lower right')\n",
        "plt.ylabel('Specificity')\n",
        "plt.xlabel('epoch')\n",
        "\n",
        "plt.figure()\n",
        "plt.plot(precision_m, label='Training Precision')\n",
        "plt.plot(val_precision_m, label='Validation Precision')\n",
        "plt.ylim([min(plt.ylim()),1.01])\n",
        "plt.legend(loc='lower right')\n",
        "plt.ylabel('Precision')\n",
        "plt.xlabel('epoch')\n",
        "\n",
        "plt.figure()\n",
        "plt.plot(f1_m, label='Training F1-score')\n",
        "plt.plot(val_f1_m, label='Validation F1-score')\n",
        "plt.ylim([min(plt.ylim()),1.01])\n",
        "plt.legend(loc='lower right')\n",
        "plt.ylabel('F1-score')\n",
        "plt.xlabel('epoch')\n",
        "\n",
        "plt.figure()\n",
        "plt.plot(loss, label='Training Loss')\n",
        "plt.plot(val_loss, label='Validation Loss')\n",
        "plt.ylim([0, max(plt.ylim())])\n",
        "plt.legend(loc='upper right')\n",
        "plt.ylabel('Contrastive Loss')\n",
        "plt.xlabel('epoch')\n",
        "\n",
        "plt.show()"
      ],
      "execution_count": 43,
      "outputs": [
        {
          "output_type": "display_data",
          "data": {
            "text/plain": [
              "<Figure size 576x576 with 0 Axes>"
            ]
          },
          "metadata": {}
        },
        {
          "output_type": "display_data",
          "data": {
            "image/png": "[encoded data removed]",
            "text/plain": [
              "<Figure size 432x288 with 1 Axes>"
            ]
          },
          "metadata": {
            "needs_background": "light"
          }
        },
        {
          "output_type": "display_data",
          "data": {
            "image/png": "[encoded data removed]",
            "text/plain": [
              "<Figure size 432x288 with 1 Axes>"
            ]
          },
          "metadata": {
            "needs_background": "light"
          }
        },
        {
          "output_type": "display_data",
          "data": {
            "image/png": "[encoded data removed]",
            "text/plain": [
              "<Figure size 432x288 with 1 Axes>"
            ]
          },
          "metadata": {
            "needs_background": "light"
          }
        },
        {
          "output_type": "display_data",
          "data": {
            "image/png": "[encoded data removed]",
            "text/plain": [
              "<Figure size 432x288 with 1 Axes>"
            ]
          },
          "metadata": {
            "needs_background": "light"
          }
        },
        {
          "output_type": "display_data",
          "data": {
            "image/png": "[encoded data removed]",
            "text/plain": [
              "<Figure size 432x288 with 1 Axes>"
            ]
          },
          "metadata": {
            "needs_background": "light"
          }
        },
        {
          "output_type": "display_data",
          "data": {
            "image/png": "[encoded data removed]",
            "text/plain": [
              "<Figure size 432x288 with 1 Axes>"
            ]
          },
          "metadata": {
            "needs_background": "light"
          }
        }
      ]
    },
    {
      "cell_type": "code",
      "metadata": {
        "colab": {
          "base_uri": "https://localhost:8080/"
        },
        "id": "Wf1gDNzPf1sC",
        "outputId": "ef70d915-269b-4721-a97a-40d9d9bdd9cc"
      },
      "source": [
        "predicton_prob = siamese_model.predict([left_input_test, right_input_test])\n",
        "\n",
        "print(np.transpose(predicton_prob))\n",
        "\n",
        "predicton_prob[predicton_prob > 0.5] = 1\n",
        "predicton_prob[predicton_prob <= 0.5] = 0\n",
        "\n",
        "tn, fp, fn, tp = sklearn.metrics.confusion_matrix(targets_test, predicton_prob).ravel()\n",
        "\n",
        "print(f'test Accuracy: {sklearn.metrics.accuracy_score(targets_test, predicton_prob)}')\n",
        "print(f'test ROC (AUC): {sklearn.metrics.roc_auc_score(targets_test, predicton_prob)}')\n",
        "print(f'test Sensitivity (Recall): {sklearn.metrics.recall_score(targets_test, predicton_prob)}')\n",
        "print(f'test Precision: {sklearn.metrics.precision_score(targets_test, predicton_prob)}')\n",
        "print(f'test F1-score: {sklearn.metrics.f1_score(targets_test, predicton_prob)}')\n",
        "print(f'test Mathews Correlation Coefficient: {sklearn.metrics.matthews_corrcoef(targets_test, predicton_prob)}')\n",
        "print(f'test Specificity: {tn/(tn+fp)}')\n",
        "print(targets_test)"
      ],
      "execution_count": 44,
      "outputs": [
        {
          "output_type": "stream",
          "name": "stdout",
          "text": [
            "[[0.08350898 0.97931117 0.9728506  0.95209575 0.9852373  0.93911964\n",
            "  0.10389497 0.9899066  0.18814895 0.98267347 0.12521462 0.891786\n",
            "  0.99138266 0.04477116 0.07024366 0.971893   0.18097149 0.06591893\n",
            "  0.07925906 0.9792731  0.98432946 0.91400766 0.08149669 0.08424778\n",
            "  0.93345624 0.9332752  0.8784443  0.05181482 0.98186994 0.9289245\n",
            "  0.93501794 0.97841316 0.97910553 0.9710742  0.97651684 0.14302407\n",
            "  0.08328868 0.9828166  0.981016   0.0773756  0.03564744 0.07113064\n",
            "  0.0881741  0.987472   0.98658425 0.9896624  0.9708326  0.9776559\n",
            "  0.11888277 0.12170921 0.9953231  0.03771869 0.9934129  0.08230848\n",
            "  0.19939321 0.18963587 0.24972083 0.11026841 0.04966098 0.9687488\n",
            "  0.99254227 0.9852271  0.9701799  0.15145853 0.09041845 0.9878632\n",
            "  0.9522029  0.98672235 0.08462045 0.20790382 0.97354466 0.20550671\n",
            "  0.96749085 0.03974584 0.96951205 0.9638604  0.12068623 0.98692745\n",
            "  0.9952873  0.25994757 0.11965321 0.9378899  0.96387845 0.03474321\n",
            "  0.08848056 0.93020076 0.03474321 0.06924599 0.20544502 0.06568045\n",
            "  0.95735997 0.9548521  0.99221766 0.97200173 0.04612695 0.9828403\n",
            "  0.04884072 0.41165087 0.9663685  0.9929715  0.9877415  0.977022\n",
            "  0.05102449 0.94716763 0.10230834 0.1710329  0.24163628 0.98599964\n",
            "  0.9740448  0.13593186 0.0475759  0.1409088  0.1546329  0.1123927\n",
            "  0.96980697 0.9882116  0.03929948 0.13231224 0.9808607  0.9944549\n",
            "  0.874792   0.0644436  0.96070355 0.1258183  0.1258183  0.05916882\n",
            "  0.07070772 0.9385821  0.05200076 0.9955913  0.0564948  0.9756851\n",
            "  0.7864245  0.03260476 0.22249769 0.07584687 0.15407316 0.98885405\n",
            "  0.94025403 0.99595344 0.32038698 0.97060746 0.193627   0.03438781\n",
            "  0.9190689  0.9824249  0.05292827 0.98352087 0.98627937 0.91415846\n",
            "  0.9817094  0.18387926 0.9135239  0.98437935 0.05093702 0.19336031\n",
            "  0.9804484  0.06348997 0.0574185  0.9815014  0.06928921 0.9817313\n",
            "  0.9939761  0.9716159  0.18702374 0.97757065 0.99401456 0.9702865\n",
            "  0.97757065 0.99266833 0.98600405 0.9715717  0.23324075 0.11224666\n",
            "  0.9194713  0.13812937 0.12652285 0.9594847  0.9779407  0.10981008\n",
            "  0.9668538  0.10552423 0.0415144  0.99094474 0.04199898 0.18409726\n",
            "  0.10649488 0.9921003  0.25834095 0.09799762 0.10414748 0.11204112\n",
            "  0.9855958  0.996207   0.9715414  0.8761719  0.05476719 0.03832362\n",
            "  0.07594599 0.22476478 0.07887395 0.99486816 0.18172954 0.9939142\n",
            "  0.04957502 0.9374565  0.07078351 0.04885578 0.9769727  0.04417152\n",
            "  0.99407744 0.97523457 0.0856939  0.9486694  0.2864456  0.9243639\n",
            "  0.8665436  0.03577356 0.9203333  0.8643939  0.96551716 0.29442903\n",
            "  0.13356134 0.97291577 0.9856253  0.04863851 0.9806968  0.9545064\n",
            "  0.9563258  0.94622797 0.9673756  0.9901286  0.86665225 0.04543271\n",
            "  0.920182   0.90344226 0.11249669 0.06524243 0.9848779  0.9871565\n",
            "  0.994423   0.97732145 0.9757201  0.04627722 0.07628423 0.10688817\n",
            "  0.16853859 0.9709061  0.9303741  0.05405283 0.0811225  0.98615336\n",
            "  0.984382   0.9793132  0.26334512 0.98443365 0.93026656 0.9550207\n",
            "  0.98332465 0.05605342 0.05002354 0.9755628  0.9742421  0.06607217\n",
            "  0.19229722 0.09002006 0.08904736 0.07541966 0.9779661  0.1710757\n",
            "  0.97886056 0.93640614 0.05848859 0.06997817 0.98087513 0.9586205\n",
            "  0.2296305  0.18437879 0.0846035  0.05387568 0.02233815 0.99413776\n",
            "  0.0527568  0.9943362  0.9853496  0.9521851  0.9774316  0.13162878\n",
            "  0.04622815 0.09467176 0.96586055 0.9515549  0.06872524 0.95909363\n",
            "  0.9965653  0.07126576 0.9534559  0.9551359  0.10911106 0.16381232\n",
            "  0.11463439 0.11087639 0.9759386  0.9877123  0.98596    0.12604252\n",
            "  0.11982489 0.97752005 0.9644867  0.03843216 0.972098   0.04462665\n",
            "  0.06862828 0.15846854 0.99083734 0.9963787  0.06527523 0.3145783\n",
            "  0.17319019 0.9620256  0.073585   0.09313595 0.0539128  0.9677931\n",
            "  0.9814932  0.02461031 0.97832674 0.07421084 0.01627561 0.0386334\n",
            "  0.9698266  0.20889904 0.24904364 0.17161798 0.09175237 0.98041326\n",
            "  0.04177577 0.95881826 0.06161257 0.0552873  0.9718888  0.9836082\n",
            "  0.94523925 0.9328417  0.16739114 0.99668473 0.950616   0.18391937\n",
            "  0.08494821 0.9297739  0.16671832 0.31901988 0.9926167  0.9788655\n",
            "  0.07175156 0.9775153  0.2594824  0.02788938 0.9812517  0.02285844\n",
            "  0.23679394 0.06524243 0.98996514 0.9791382  0.11470992 0.08183917\n",
            "  0.98077    0.03946684 0.05088447 0.95903456 0.99303895 0.07806967\n",
            "  0.11495519 0.10874339 0.14999205 0.9873739  0.98058873 0.9796338\n",
            "  0.07062674 0.98007214 0.04247658 0.05532763 0.99442095 0.97413355\n",
            "  0.92104834 0.9857174  0.9775865  0.98809624 0.98636836 0.9736762\n",
            "  0.10267141 0.9959836  0.9954295  0.98018026 0.07593086 0.9944402\n",
            "  0.9945457  0.9821874  0.13463819 0.387201   0.06008364 0.965844\n",
            "  0.2457249  0.9646238  0.09531077 0.94903415 0.9810858  0.9859736\n",
            "  0.95217735 0.9515569  0.97298867 0.986155   0.2066906  0.9844111\n",
            "  0.979369   0.3572381  0.18102537 0.95538414 0.05481733 0.06521159\n",
            "  0.9809337  0.9871306  0.06843475 0.972212   0.12163962 0.97505414\n",
            "  0.07941473 0.1600302  0.14614631 0.9655106  0.09019386 0.14841855\n",
            "  0.99105716 0.04548113 0.0875092  0.98952967 0.9874993  0.98797053\n",
            "  0.99358976 0.9824752  0.18044505 0.33846727 0.18184236 0.9820825\n",
            "  0.97840905 0.98099786 0.0459654  0.17006527 0.06452212 0.12843305\n",
            "  0.24161272 0.09019446 0.14455384 0.05961953 0.97952545 0.9922184\n",
            "  0.9787235  0.13003363 0.11462808 0.10302863 0.99212307 0.98881286\n",
            "  0.27745974 0.21645083 0.08802962 0.3445082  0.97950727 0.18441364\n",
            "  0.9894701  0.9855031  0.9852373  0.17510283 0.07718343 0.9919045\n",
            "  0.10467526 0.93539494 0.1690032  0.48375908 0.9881725  0.9859218\n",
            "  0.09368149 0.18305206 0.9769231  0.06925736 0.10332105 0.94831544\n",
            "  0.99059594 0.04077487 0.95485854 0.97993624 0.99228984 0.13058983\n",
            "  0.10285956 0.27777848 0.2742425  0.10988136 0.99566805 0.98364455\n",
            "  0.9881883  0.12323605 0.11221555 0.14164174 0.10661025 0.9630337\n",
            "  0.13721845 0.06291906 0.9900781  0.22858652 0.20070851 0.0340247\n",
            "  0.9643021  0.9925412  0.95360625 0.07778255 0.3795251  0.96087337\n",
            "  0.9871503  0.99305224 0.1660679  0.13790004 0.21773612 0.9906261\n",
            "  0.99378633 0.07109036 0.9632732  0.14071052 0.05618861 0.9942293\n",
            "  0.18484662 0.23930812 0.9802255  0.94959795 0.03614316 0.2914641\n",
            "  0.98534507 0.99351865 0.9776685  0.9857904  0.9686271  0.07806078\n",
            "  0.95286465 0.9488717  0.9590422  0.97405857 0.9850113  0.98710424\n",
            "  0.13381627 0.97162455 0.96701753 0.1471353  0.32751957 0.19206744\n",
            "  0.16169307 0.17567924 0.9794297  0.96164584 0.07882997 0.10531346\n",
            "  0.40167814 0.9899504  0.06842846 0.9581638  0.42901984 0.12228172\n",
            "  0.97165596 0.1453889  0.04464068 0.9847357  0.08699831 0.2114901\n",
            "  0.98882884 0.9714096  0.9552378  0.96494395 0.3360809  0.9884848\n",
            "  0.17078102 0.10570605 0.1138255  0.9805257  0.07667068 0.97780484\n",
            "  0.92322093 0.26509678 0.04393812 0.2773494  0.99215746 0.9821874\n",
            "  0.9927826  0.07599108 0.9877873  0.9774163  0.16417885 0.05307333\n",
            "  0.9969535  0.06193815 0.07617691 0.9882107  0.12013742 0.07615768\n",
            "  0.94353265 0.926495   0.1479471  0.98742026 0.98981595 0.9858191\n",
            "  0.0302835  0.9939902  0.16085735 0.9909422  0.98217046 0.99831957\n",
            "  0.18979907 0.99467963 0.04909829 0.09397047 0.13441181 0.24724029\n",
            "  0.98259234 0.06336995 0.9540927  0.07273892 0.41843468 0.96990114\n",
            "  0.94576275 0.12200053 0.13381627 0.21016179 0.04857858 0.98964125\n",
            "  0.10688511 0.97363764 0.16042307 0.9783961  0.05649175 0.992886\n",
            "  0.05252974 0.07054315 0.9458249  0.9864144  0.06010631 0.15347996\n",
            "  0.98877245 0.14996758 0.09682101 0.04302117 0.98228294 0.3233038\n",
            "  0.10416909 0.26845375 0.98045236 0.27213642 0.98043203 0.21865705\n",
            "  0.3929808  0.35328087 0.20516405 0.29532084 0.9967349  0.44533348\n",
            "  0.21307488 0.049206   0.19645464 0.16034882 0.86665815 0.97137487\n",
            "  0.11940675 0.0849618  0.23578325 0.9550979  0.9702747  0.11432011\n",
            "  0.98833686 0.09639092 0.98906976 0.97129434 0.07465243 0.2541837\n",
            "  0.9710123  0.96719074 0.9368858  0.9828152  0.9935895  0.994418\n",
            "  0.07907724 0.9936241  0.9650639  0.2694673  0.28084823 0.95406306\n",
            "  0.9895559  0.24388316 0.33013147 0.9849722  0.9875102  0.9506406\n",
            "  0.3490547  0.44026184 0.9847801  0.9582935  0.9799902  0.17155553\n",
            "  0.08360264 0.98807997 0.04165522 0.12046022 0.1779732  0.07589461\n",
            "  0.99003816 0.97220325 0.9881705  0.9910691  0.19330338 0.9955947\n",
            "  0.96960706 0.9936754  0.09320419 0.94863933 0.9766896  0.13537312\n",
            "  0.96593297 0.25270396 0.09648519 0.11652289 0.9065258  0.29578748\n",
            "  0.08738331 0.9334122  0.2739597  0.23740563 0.98402864 0.48662144\n",
            "  0.97755265 0.09472772 0.91779524 0.5855608  0.10960564 0.11320563\n",
            "  0.14317416 0.06819304 0.12196888 0.96749085 0.24739774 0.91128963\n",
            "  0.9442215  0.9327198  0.9695879  0.06492079 0.94650227 0.8904173\n",
            "  0.13968308 0.9600116  0.98793644 0.9578539  0.03178662 0.08098851\n",
            "  0.11238328 0.06554157 0.03762237 0.9915782  0.09366813 0.95629615\n",
            "  0.9746883  0.15861472 0.9558385  0.9833418  0.26774102 0.9396372\n",
            "  0.20515044 0.93621355 0.04331607 0.03614316 0.9568881  0.9917606\n",
            "  0.9395928  0.05264622 0.34084985 0.05129577 0.13604008 0.98257464\n",
            "  0.9868242  0.9885471  0.21888141 0.8617529  0.13122952 0.25753206\n",
            "  0.9815454  0.9555464  0.9251861  0.3950074  0.36030513 0.4312223\n",
            "  0.3839882  0.9607982  0.20881417 0.9765087  0.9631873  0.97515917\n",
            "  0.90298444 0.09925655 0.96476537 0.23603505 0.9803454  0.98797953\n",
            "  0.5979714  0.9820841  0.9602097  0.9867458  0.3238483  0.8897674\n",
            "  0.22750194 0.23372133 0.49793747 0.94966334 0.06583568 0.19044891\n",
            "  0.04069616 0.9910796  0.14681019 0.49300012 0.26627734 0.14999627\n",
            "  0.3233038  0.38291004 0.14143445 0.9421644  0.08503686 0.10064199\n",
            "  0.9357436  0.43477654 0.30831793 0.8947593  0.6262176  0.2869072\n",
            "  0.85722846 0.47701684 0.07011215 0.12646557 0.9935777  0.99535996\n",
            "  0.9977902  0.46189275 0.1846044  0.11484118 0.9944621  0.12450516\n",
            "  0.36664087 0.8378681  0.9594847  0.06118872 0.95698303 0.4272041\n",
            "  0.36664087 0.9593269  0.99350774 0.9806188 ]]\n",
            "test Accuracy: 0.9964953271028038\n",
            "test ROC (AUC): 0.9965357967667436\n",
            "test Sensitivity (Recall): 1.0\n",
            "test Precision: 0.9929577464788732\n",
            "test F1-score: 0.9964664310954063\n",
            "test Mathews Correlation Coefficient: 0.9930146683746394\n",
            "test Specificity: 0.9930715935334873\n",
            "[0. 1. 1. 1. 1. 1. 0. 1. 0. 1. 0. 1. 1. 0. 0. 1. 0. 0. 0. 1. 1. 1. 0. 0.\n",
            " 1. 1. 1. 0. 1. 1. 1. 1. 1. 1. 1. 0. 0. 1. 1. 0. 0. 0. 0. 1. 1. 1. 1. 1.\n",
            " 0. 0. 1. 0. 1. 0. 0. 0. 0. 0. 0. 1. 1. 1. 1. 0. 0. 1. 1. 1. 0. 0. 1. 0.\n",
            " 1. 0. 1. 1. 0. 1. 1. 0. 0. 1. 1. 0. 0. 1. 0. 0. 0. 0. 1. 1. 1. 1. 0. 1.\n",
            " 0. 0. 1. 1. 1. 1. 0. 1. 0. 0. 0. 1. 1. 0. 0. 0. 0. 0. 1. 1. 0. 0. 1. 1.\n",
            " 1. 0. 1. 0. 0. 0. 0. 1. 0. 1. 0. 1. 1. 0. 0. 0. 0. 1. 1. 1. 0. 1. 0. 0.\n",
            " 1. 1. 0. 1. 1. 1. 1. 0. 1. 1. 0. 0. 1. 0. 0. 1. 0. 1. 1. 1. 0. 1. 1. 1.\n",
            " 1. 1. 1. 1. 0. 0. 1. 0. 0. 1. 1. 0. 1. 0. 0. 1. 0. 0. 0. 1. 0. 0. 0. 0.\n",
            " 1. 1. 1. 1. 0. 0. 0. 0. 0. 1. 0. 1. 0. 1. 0. 0. 1. 0. 1. 1. 0. 1. 0. 1.\n",
            " 1. 0. 1. 1. 1. 0. 0. 1. 1. 0. 1. 1. 1. 1. 1. 1. 1. 0. 1. 1. 0. 0. 1. 1.\n",
            " 1. 1. 1. 0. 0. 0. 0. 1. 1. 0. 0. 1. 1. 1. 0. 1. 1. 1. 1. 0. 0. 1. 1. 0.\n",
            " 0. 0. 0. 0. 1. 0. 1. 1. 0. 0. 1. 1. 0. 0. 0. 0. 0. 1. 0. 1. 1. 1. 1. 0.\n",
            " 0. 0. 1. 1. 0. 1. 1. 0. 1. 1. 0. 0. 0. 0. 1. 1. 1. 0. 0. 1. 1. 0. 1. 0.\n",
            " 0. 0. 1. 1. 0. 0. 0. 1. 0. 0. 0. 1. 1. 0. 1. 0. 0. 0. 1. 0. 0. 0. 0. 1.\n",
            " 0. 1. 0. 0. 1. 1. 1. 1. 0. 1. 1. 0. 0. 1. 0. 0. 1. 1. 0. 1. 0. 0. 1. 0.\n",
            " 0. 0. 1. 1. 0. 0. 1. 0. 0. 1. 1. 0. 0. 0. 0. 1. 1. 1. 0. 1. 0. 0. 1. 1.\n",
            " 1. 1. 1. 1. 1. 1. 0. 1. 1. 1. 0. 1. 1. 1. 0. 0. 0. 1. 0. 1. 0. 1. 1. 1.\n",
            " 1. 1. 1. 1. 0. 1. 1. 0. 0. 1. 0. 0. 1. 1. 0. 1. 0. 1. 0. 0. 0. 1. 0. 0.\n",
            " 1. 0. 0. 1. 1. 1. 1. 1. 0. 0. 0. 1. 1. 1. 0. 0. 0. 0. 0. 0. 0. 0. 1. 1.\n",
            " 1. 0. 0. 0. 1. 1. 0. 0. 0. 0. 1. 0. 1. 1. 1. 0. 0. 1. 0. 1. 0. 0. 1. 1.\n",
            " 0. 0. 1. 0. 0. 1. 1. 0. 1. 1. 1. 0. 0. 0. 0. 0. 1. 1. 1. 0. 0. 0. 0. 1.\n",
            " 0. 0. 1. 0. 0. 0. 1. 1. 1. 0. 0. 1. 1. 1. 0. 0. 0. 1. 1. 0. 1. 0. 0. 1.\n",
            " 0. 0. 1. 1. 0. 0. 1. 1. 1. 1. 1. 0. 1. 1. 1. 1. 1. 1. 0. 1. 1. 0. 0. 0.\n",
            " 0. 0. 1. 1. 0. 0. 0. 1. 0. 1. 0. 0. 1. 0. 0. 1. 0. 0. 1. 1. 1. 1. 0. 1.\n",
            " 0. 0. 0. 1. 0. 1. 1. 0. 0. 0. 1. 1. 1. 0. 1. 1. 0. 0. 1. 0. 0. 1. 0. 0.\n",
            " 1. 1. 0. 1. 1. 1. 0. 1. 0. 1. 1. 1. 0. 1. 0. 0. 0. 0. 1. 0. 1. 0. 0. 1.\n",
            " 1. 0. 0. 0. 0. 1. 0. 1. 0. 1. 0. 1. 0. 0. 1. 1. 0. 0. 1. 0. 0. 0. 1. 0.\n",
            " 0. 0. 1. 0. 1. 0. 0. 0. 0. 0. 1. 0. 0. 0. 0. 0. 1. 1. 0. 0. 0. 1. 1. 0.\n",
            " 1. 0. 1. 1. 0. 0. 1. 1. 1. 1. 1. 1. 0. 1. 1. 0. 0. 1. 1. 0. 0. 1. 1. 1.\n",
            " 0. 0. 1. 1. 1. 0. 0. 1. 0. 0. 0. 0. 1. 1. 1. 1. 0. 1. 1. 1. 0. 1. 1. 0.\n",
            " 1. 0. 0. 0. 1. 0. 0. 1. 0. 0. 1. 0. 1. 0. 1. 0. 0. 0. 0. 0. 0. 1. 0. 1.\n",
            " 1. 1. 1. 0. 1. 1. 0. 1. 1. 1. 0. 0. 0. 0. 0. 1. 0. 1. 1. 0. 1. 1. 0. 1.\n",
            " 0. 1. 0. 0. 1. 1. 1. 0. 0. 0. 0. 1. 1. 1. 0. 1. 0. 0. 1. 1. 1. 0. 0. 0.\n",
            " 0. 1. 0. 1. 1. 1. 1. 0. 1. 0. 1. 1. 0. 1. 1. 1. 0. 1. 0. 0. 0. 1. 0. 0.\n",
            " 0. 1. 0. 0. 0. 0. 0. 0. 0. 1. 0. 0. 1. 0. 0. 1. 0. 0. 1. 0. 0. 0. 1. 1.\n",
            " 1. 0. 0. 0. 1. 0. 0. 1. 1. 0. 1. 0. 0. 1. 1. 1.]\n"
          ]
        }
      ]
    },
    {
      "cell_type": "code",
      "metadata": {
        "colab": {
          "base_uri": "https://localhost:8080/"
        },
        "id": "Qpl6SQKPPRfi",
        "outputId": "1e9dee3d-db1d-41bd-8052-1dba6c7768ac"
      },
      "source": [
        "# Save Model\n",
        "siamese_model.save('/content/drive/My Drive/Autism_CNN/autism_cnn_model')"
      ],
      "execution_count": 45,
      "outputs": [
        {
          "output_type": "stream",
          "name": "stdout",
          "text": [
            "INFO:tensorflow:Assets written to: /content/drive/My Drive/Autism_CNN/autism_cnn_model/assets\n"
          ]
        }
      ]
    },
    {
      "cell_type": "code",
      "metadata": {
        "colab": {
          "base_uri": "https://localhost:8080/"
        },
        "id": "lgGLe9bl-een",
        "outputId": "e36aaa01-6d2b-4e57-8438-4ccbc81e5bbe"
      },
      "source": [
        "siamese_model = tf.keras.models.load_model('/content/drive/My Drive/Autism_CNN/autism_cnn_model', custom_objects={'contrastive_loss':contrastive_loss, 'accuracy':accuracy, 'recall_m':recall_m, 'specificity': specificity, 'precision_m':precision_m, 'f1_m':f1_m})\n",
        "print('Model is loaded')"
      ],
      "execution_count": 46,
      "outputs": [
        {
          "output_type": "stream",
          "name": "stdout",
          "text": [
            "Model is loaded\n"
          ]
        }
      ]
    },
    {
      "cell_type": "code",
      "metadata": {
        "colab": {
          "base_uri": "https://localhost:8080/"
        },
        "id": "lqP7_4vkAFIg",
        "outputId": "a66a4358-758a-4438-d497-73202f12014f"
      },
      "source": [
        "\n",
        "left_test = np.expand_dims(left_input_test[0], axis = (0, -1))\n",
        "print(left_test.shape)\n",
        "right_test = np.expand_dims(right_input_test[0], axis = (0, -1))\n",
        "p = siamese_model.predict([left_test, right_test])\n",
        "print(f'predicted probability is {p[0][0]} and actual probability is {targets_test[0]}')"
      ],
      "execution_count": 47,
      "outputs": [
        {
          "output_type": "stream",
          "name": "stdout",
          "text": [
            "(1, 30, 45, 30, 1)\n",
            "predicted probability is 0.08350886404514313 and actual probability is 0.0\n"
          ]
        }
      ]
    },
    {
      "cell_type": "code",
      "metadata": {
        "id": "KNmU0yetWiLL"
      },
      "source": [
        "#tf.keras.utils.plot_model(siamese_model, show_shapes=True, show_dtype=True)"
      ],
      "execution_count": 49,
      "outputs": []
    },
    {
      "cell_type": "code",
      "metadata": {
        "colab": {
          "base_uri": "https://localhost:8080/"
        },
        "id": "MpfiWZkmnBa7",
        "outputId": "4f9bb239-2a89-4686-d605-5f0178a7abfd"
      },
      "source": [
        "_, siamese_embeddings_model = SiameseNetwork(img_shape)\n",
        "siamese_embeddings_model.summary()"
      ],
      "execution_count": 50,
      "outputs": [
        {
          "output_type": "stream",
          "name": "stdout",
          "text": [
            "Model: \"base_3dcnn\"\n",
            "_________________________________________________________________\n",
            "Layer (type)                 Output Shape              Param #   \n",
            "=================================================================\n",
            "input_12 (InputLayer)        [(None, 30, 45, 30, 1)]   0         \n",
            "_________________________________________________________________\n",
            "conv3d_1 (Conv3D)            (None, 30, 45, 30, 32)    896       \n",
            "_________________________________________________________________\n",
            "batch_normalization_15 (Batc (None, 30, 45, 30, 32)    128       \n",
            "_________________________________________________________________\n",
            "activation_15 (Activation)   (None, 30, 45, 30, 32)    0         \n",
            "_________________________________________________________________\n",
            "conv3d_2 (Conv3D)            (None, 30, 45, 30, 32)    27680     \n",
            "_________________________________________________________________\n",
            "batch_normalization_16 (Batc (None, 30, 45, 30, 32)    128       \n",
            "_________________________________________________________________\n",
            "activation_16 (Activation)   (None, 30, 45, 30, 32)    0         \n",
            "_________________________________________________________________\n",
            "max_pooling3d_9 (MaxPooling3 (None, 15, 22, 15, 32)    0         \n",
            "_________________________________________________________________\n",
            "conv3d_3 (Conv3D)            (None, 15, 22, 15, 64)    55360     \n",
            "_________________________________________________________________\n",
            "batch_normalization_17 (Batc (None, 15, 22, 15, 64)    256       \n",
            "_________________________________________________________________\n",
            "activation_17 (Activation)   (None, 15, 22, 15, 64)    0         \n",
            "_________________________________________________________________\n",
            "conv3d_4 (Conv3D)            (None, 15, 22, 15, 64)    110656    \n",
            "_________________________________________________________________\n",
            "batch_normalization_18 (Batc (None, 15, 22, 15, 64)    256       \n",
            "_________________________________________________________________\n",
            "activation_18 (Activation)   (None, 15, 22, 15, 64)    0         \n",
            "_________________________________________________________________\n",
            "max_pooling3d_10 (MaxPooling (None, 7, 11, 7, 64)      0         \n",
            "_________________________________________________________________\n",
            "conv3d_5 (Conv3D)            (None, 7, 11, 7, 256)     442624    \n",
            "_________________________________________________________________\n",
            "batch_normalization_19 (Batc (None, 7, 11, 7, 256)     1024      \n",
            "_________________________________________________________________\n",
            "activation_19 (Activation)   (None, 7, 11, 7, 256)     0         \n",
            "_________________________________________________________________\n",
            "max_pooling3d_11 (MaxPooling (None, 3, 5, 3, 256)      0         \n",
            "_________________________________________________________________\n",
            "global_average_pooling3d_3 ( (None, 256)               0         \n",
            "_________________________________________________________________\n",
            "dense_6 (Dense)              (None, 256)               65792     \n",
            "=================================================================\n",
            "Total params: 704,800\n",
            "Trainable params: 703,904\n",
            "Non-trainable params: 896\n",
            "_________________________________________________________________\n"
          ]
        }
      ]
    },
    {
      "cell_type": "code",
      "metadata": {
        "id": "_jVpAbf0mOVX"
      },
      "source": [
        "\n",
        "embeddings_weights = siamese_model.layers[-3].get_weights()\n",
        "siamese_embeddings_model.set_weights(embeddings_weights)"
      ],
      "execution_count": 51,
      "outputs": []
    },
    {
      "cell_type": "code",
      "metadata": {
        "id": "5Naz7xcxn_pa"
      },
      "source": [
        "test_L = np.expand_dims(left_input_test[-6], axis = (0, -1))\n",
        "test_R = np.expand_dims(right_input_test[-6], axis = (0, -1))"
      ],
      "execution_count": 490,
      "outputs": []
    },
    {
      "cell_type": "code",
      "metadata": {
        "id": "D3SZnHMRrcOT"
      },
      "source": [
        "last_conv_layer = siamese_embeddings_model.get_layer('conv3d_5')\n",
        "new_embeddings_model = tf.keras.models.Model(siamese_embeddings_model.inputs, [last_conv_layer.output, siamese_embeddings_model.output])\n",
        "\n",
        "last_conv_output_left, vector_left = new_embeddings_model.predict(test_L)\n",
        "last_conv_output_right, vector_right = new_embeddings_model.predict(test_R)"
      ],
      "execution_count": 491,
      "outputs": []
    },
    {
      "cell_type": "code",
      "metadata": {
        "colab": {
          "base_uri": "https://localhost:8080/"
        },
        "id": "iVcQn-OYtS2t",
        "outputId": "b56f40a8-ea67-455e-ee84-13e5d46543fb"
      },
      "source": [
        "last_conv_output_left = np.squeeze(last_conv_output_left)\n",
        "last_conv_output_left.shape"
      ],
      "execution_count": 492,
      "outputs": [
        {
          "output_type": "execute_result",
          "data": {
            "text/plain": [
              "(7, 11, 7, 256)"
            ]
          },
          "metadata": {},
          "execution_count": 492
        }
      ]
    },
    {
      "cell_type": "code",
      "metadata": {
        "colab": {
          "base_uri": "https://localhost:8080/"
        },
        "id": "hACNVt5Tw1fr",
        "outputId": "56a0eed6-20e4-427b-f0bc-2c48540e4630"
      },
      "source": [
        "last_conv_output_right = np.squeeze(last_conv_output_right)\n",
        "last_conv_output_right.shape"
      ],
      "execution_count": 493,
      "outputs": [
        {
          "output_type": "execute_result",
          "data": {
            "text/plain": [
              "(7, 11, 7, 256)"
            ]
          },
          "metadata": {},
          "execution_count": 493
        }
      ]
    },
    {
      "cell_type": "code",
      "metadata": {
        "id": "v7NyrzVcwQrZ"
      },
      "source": [
        "#abs(vector_left - vector_right)"
      ],
      "execution_count": 494,
      "outputs": []
    },
    {
      "cell_type": "code",
      "metadata": {
        "id": "WXCqlAZUNjUa"
      },
      "source": [
        "lambda_layer = siamese_model.get_layer('lambda_layer')\n",
        "s_model = tf.keras.models.Model(inputs = [siamese_model.inputs], outputs = [lambda_layer.output, siamese_model.output])\n",
        "L1, prediction = s_model.predict([test_L, test_R])"
      ],
      "execution_count": 495,
      "outputs": []
    },
    {
      "cell_type": "code",
      "metadata": {
        "colab": {
          "base_uri": "https://localhost:8080/"
        },
        "id": "cvARK5T7e-W_",
        "outputId": "d4755262-c9be-466a-f727-ff27c2049364"
      },
      "source": [
        "L1 = np.squeeze(L1)\n",
        "L1.shape, np.min(L1), np.max(L1), np.mean(L1)"
      ],
      "execution_count": 496,
      "outputs": [
        {
          "output_type": "execute_result",
          "data": {
            "text/plain": [
              "((256,), 0.0, 1.5303856, 0.25183347)"
            ]
          },
          "metadata": {},
          "execution_count": 496
        }
      ]
    },
    {
      "cell_type": "code",
      "metadata": {
        "id": "j1fo5icsPwUv"
      },
      "source": [
        "heat_map = np.zeros(last_conv_output_left.shape[0:3], dtype = np.float32)"
      ],
      "execution_count": 497,
      "outputs": []
    },
    {
      "cell_type": "code",
      "metadata": {
        "id": "aeHRXNe76cT9"
      },
      "source": [
        "for index, w in enumerate(L1):\n",
        "  heat_map += w * last_conv_output_left[:, :, :, index]"
      ],
      "execution_count": 498,
      "outputs": []
    },
    {
      "cell_type": "code",
      "metadata": {
        "id": "SfU07YBoN7Vb"
      },
      "source": [
        "heat_map[heat_map < 0] = 0"
      ],
      "execution_count": 499,
      "outputs": []
    },
    {
      "cell_type": "code",
      "metadata": {
        "colab": {
          "base_uri": "https://localhost:8080/"
        },
        "id": "namaoeVo7x95",
        "outputId": "6b5ddab0-50bc-4ba9-e700-a1b01f9ced9a"
      },
      "source": [
        "np.min(heat_map), np.max(heat_map), np.mean(heat_map)"
      ],
      "execution_count": 500,
      "outputs": [
        {
          "output_type": "execute_result",
          "data": {
            "text/plain": [
              "(0.0, 7.228695, 2.8158534)"
            ]
          },
          "metadata": {},
          "execution_count": 500
        }
      ]
    },
    {
      "cell_type": "code",
      "metadata": {
        "colab": {
          "base_uri": "https://localhost:8080/",
          "height": 1000
        },
        "id": "-vv5rjw47wvj",
        "outputId": "fc7c8a12-bffb-4909-f5cd-49c609bdf000"
      },
      "source": [
        "from skimage.transform import resize\n",
        "import cv2\n",
        "\n",
        "hm = resize(heat_map, (30, 45, 30))\n",
        "\n",
        "#heatmap = (hm - hm.min())/(hm.max() - hm.min())\n",
        "heatmap = hm\n",
        "\n",
        "f, axarr = plt.subplots(2,3, figsize=(20,20));\n",
        "f.suptitle('Grad-CAM')\n",
        "slice_count=14\n",
        "slice_count2=5\n",
        "\n",
        "mri_image = np.squeeze(test_L)\n",
        "\n",
        "sagittal_mri_img=np.rot90(np.squeeze(mri_image[slice_count, :, :]))\n",
        "sagittal_grad_cmap_img=np.rot90(np.squeeze(heatmap[slice_count, :, :]))\n",
        "#sagittal_overlay=cv2.addWeighted(sagittal_mri_img, 0.3, sagittal_grad_cmap_img, 0.6, 0)\n",
        "\n",
        "coronal_mri_img=np.rot90(np.squeeze(mri_image[:, slice_count2, :]))\n",
        "coronal_grad_cmap_img=np.rot90(np.squeeze(heatmap[:, slice_count2, :]))\n",
        "#coronal_overlay=cv2.addWeighted(coronal_mri_img, 0.3, coronal_grad_cmap_img, 0.6, 0)\n",
        "\n",
        "axial_mri_img=np.rot90(np.squeeze(mri_image[:, :, slice_count2]))\n",
        "axial_grad_cmap_img=np.rot90(np.squeeze(heatmap[:, :, slice_count2]))\n",
        "#axial_overlay=cv2.addWeighted(axial_mri_img, 0.3, axial_grad_cmap_img, 0.6, 0)\n",
        "\n",
        "img_plot = axarr[0,0].imshow(axial_mri_img, cmap='gray');\n",
        "axarr[0,0].axis('off')\n",
        "axarr[0,0].set_title('MRI-Axial')\n",
        "    \n",
        "img_plot = axarr[0,1].imshow(coronal_mri_img, cmap='gray');\n",
        "axarr[0,1].axis('off')\n",
        "axarr[0,1].set_title('MRI-Coronal')\n",
        "\n",
        "img_plot = axarr[0,2].imshow(sagittal_mri_img, cmap='gray');\n",
        "axarr[0,2].axis('off')\n",
        "axarr[0,2].set_title('MRI-Sagittal')\n",
        "\n",
        "img_plot = axarr[1,0].imshow(axial_grad_cmap_img, cmap=plt.cm.rainbow, vmax = 5, alpha = 1);\n",
        "axarr[1,0].axis('off')\n",
        "axarr[1,0].set_title('HeatMap-Axial')\n",
        "    \n",
        "img_plot = axarr[1,1].imshow(coronal_grad_cmap_img, cmap=plt.cm.rainbow, vmax = 5, alpha = 1);\n",
        "axarr[1,1].axis('off')\n",
        "axarr[1,1].set_title('HeatMap-Coronal')\n",
        "\n",
        "img_plot = axarr[1,2].imshow(sagittal_grad_cmap_img, cmap=plt.cm.rainbow, vmax = 5, alpha = 1);\n",
        "axarr[1,2].axis('off')\n",
        "axarr[1,2].set_title('HeatMap-Sagittal')\n",
        "\n",
        "#img_plot = axarr[2,0].imshow(axial_overlay, cmap=plt.cm.rainbow, alpha = 1);\n",
        "#axarr[2,0].axis('off')\n",
        "#axarr[2,0].set_title('Overlay-Axial')\n",
        "    \n",
        "#img_plot = axarr[2,1].imshow(coronal_overlay, cmap=plt.cm.rainbow, alpha = 1);\n",
        "#axarr[2,1].axis('off')\n",
        "#axarr[2,1].set_title('Overlay-Coronal')\n",
        "\n",
        "#img_plot = axarr[2,2].imshow(sagittal_overlay, cmap=plt.cm.rainbow, alpha = 1);\n",
        "#axarr[2,2].axis('off')\n",
        "#axarr[2,2].set_title('Overlay-Sagittal')\n",
        "        "
      ],
      "execution_count": 503,
      "outputs": [
        {
          "output_type": "execute_result",
          "data": {
            "text/plain": [
              "Text(0.5, 1.0, 'HeatMap-Sagittal')"
            ]
          },
          "metadata": {},
          "execution_count": 503
        },
        {
          "output_type": "display_data",
          "data": {
            "image/png": "[encoded data removed]",
            "text/plain": [
              "<Figure size 1440x1440 with 6 Axes>"
            ]
          },
          "metadata": {
            "needs_background": "light"
          }
        }
      ]
    }
  ]
}